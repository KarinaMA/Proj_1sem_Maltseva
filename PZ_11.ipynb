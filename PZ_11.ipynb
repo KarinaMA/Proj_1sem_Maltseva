{
  "nbformat": 4,
  "nbformat_minor": 0,
  "metadata": {
    "colab": {
      "name": "Untitled0.ipynb",
      "provenance": [],
      "collapsed_sections": [],
      "authorship_tag": "ABX9TyN0CwNf1SMei9dbMtgNzv01",
      "include_colab_link": true
    },
    "kernelspec": {
      "name": "python3",
      "display_name": "Python 3"
    },
    "language_info": {
      "name": "python"
    }
  },
  "cells": [
    {
      "cell_type": "markdown",
      "metadata": {
        "id": "view-in-github",
        "colab_type": "text"
      },
      "source": [
        "<a href=\"https://colab.research.google.com/github/KarinaMA/Proj_1sem_Maltseva/blob/master/PZ_11.ipynb\" target=\"_parent\"><img src=\"https://colab.research.google.com/assets/colab-badge.svg\" alt=\"Open In Colab\"/></a>"
      ]
    },
    {
      "cell_type": "markdown",
      "source": [
        "PZ_3\n"
      ],
      "metadata": {
        "id": "ir_S8oEw5qFZ"
      }
    },
    {
      "cell_type": "code",
      "source": [
        "# Даны числа x,y.\n",
        "# Проверить истинность высказывания:\"Точка с координатами (x,y) лежит в четвертой координатной четверти\"\n",
        "\n",
        "x, y = input(\"Введите первое число: \"), input(\"Введите второе число: \")\n",
        "while type(x) != int:\n",
        "    try:                         # обработка исключений\n",
        "        x = int(x)\n",
        "    except ValueError:\n",
        "        print(\"Ввели неправильное число\")\n",
        "        x = input(\"Введите первое число: \")\n",
        "while type(y) != int:\n",
        "    try:                         # обработка исключений\n",
        "        y = int(y)\n",
        "    except ValueError:\n",
        "        print(\"Ввели неправильное число\")\n",
        "        y = input(\"Введите второе число: \")\n",
        "\n",
        "if (x > 0) and (y < 0):\n",
        "    print(\"True\")\n",
        "else:\n",
        "    print(\"False\")"
      ],
      "metadata": {
        "colab": {
          "base_uri": "https://localhost:8080/"
        },
        "id": "n3j056wW50kP",
        "outputId": "8e09013b-036b-4da9-f8b2-18842b638064"
      },
      "execution_count": null,
      "outputs": [
        {
          "output_type": "stream",
          "name": "stdout",
          "text": [
            "Введите первое число: 5\n",
            "Введите второе число: 9\n",
            "False\n"
          ]
        }
      ]
    },
    {
      "cell_type": "markdown",
      "source": [
        "PZ_4"
      ],
      "metadata": {
        "id": "StJHsfX-6MfP"
      }
    },
    {
      "cell_type": "code",
      "source": [
        "# Даны два целых числа A и B (A < B).\n",
        "# Вывести в порядке убывания все целые числа, расположенные между A и B (не включая числа A и B),\n",
        "# а также количество N этих чисел.\n",
        "\n",
        "a = int(input(\"Введите первое число: \"))\n",
        "b = int(input(\"Введите второе число: \"))\n",
        "\n",
        "while type(a) != int:     # обработка исключений\n",
        "    try:\n",
        "        a = int(a)\n",
        "    except ValueError:\n",
        "        print(\"Неправильно ввели!\")\n",
        "        a = input(\"Введите первое число: \")\n",
        "\n",
        "while type(b) != int:     # обработка исключений\n",
        "    try:\n",
        "        b = int(b)\n",
        "    except ValueError:\n",
        "        print(\"Неправильно ввели!\")\n",
        "        b = input(\"Введите второе число: \")\n",
        "k = 0\n",
        "b -= 1\n",
        "while a < b:\n",
        "    print(b)\n",
        "    b -= 1\n",
        "    k += 1\n",
        "print(\"Количество чисел в цикле: \", k)"
      ],
      "metadata": {
        "id": "btNHhfiw6N9n"
      },
      "execution_count": null,
      "outputs": []
    },
    {
      "cell_type": "markdown",
      "source": [
        "PZ_5"
      ],
      "metadata": {
        "id": "eEVKQHQZ6OvQ"
      }
    },
    {
      "cell_type": "code",
      "source": [
        "# Составить программу, в которой функцию построит изображение,\n",
        "# в котором в первой строке 1 звездочка, во второй-2, в третьей-3,..., в строке с номеров m-m звездочек.\n",
        "\n",
        "def star(*a):                              # задание функции\n",
        "    a = int(input(\"Введите число: \"))\n",
        "    b = 0\n",
        "    while b <= a:\n",
        "        print(\"*\" * b)\n",
        "        b += 1\n",
        "\n",
        "\n",
        "star()"
      ],
      "metadata": {
        "id": "6LJCgVGx6RDA"
      },
      "execution_count": null,
      "outputs": []
    }
  ]
}